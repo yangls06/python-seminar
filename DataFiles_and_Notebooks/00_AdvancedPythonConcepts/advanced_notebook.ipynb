{
 "metadata": {
  "name": "advanced_notebook"
 },
 "nbformat": 3,
 "nbformat_minor": 0,
 "worksheets": [
  {
   "cells": [
    {
     "cell_type": "markdown",
     "metadata": {},
     "source": [
      "## OrderedDict ##"
     ]
    },
    {
     "cell_type": "code",
     "collapsed": false,
     "input": [
      "a = {\"cal\": \"wow\", \"stanford\": \"meh\"}\n",
      "b = {\"stanford\": \"meh\", \"cal\": \"wow\"}"
     ],
     "language": "python",
     "metadata": {},
     "outputs": [],
     "prompt_number": 4
    },
    {
     "cell_type": "code",
     "collapsed": false,
     "input": [
      "a == b"
     ],
     "language": "python",
     "metadata": {},
     "outputs": [
      {
       "output_type": "pyout",
       "prompt_number": 5,
       "text": [
        "True"
       ]
      }
     ],
     "prompt_number": 5
    },
    {
     "cell_type": "code",
     "collapsed": false,
     "input": [
      "for k in a.keys(): print k,\n",
      "print \"\\n\" + \"*\"*10\n",
      "for v in a.values(): print v,\n",
      "print \"\\n\" + \"*\"*10\n",
      "for k, v in a.iteritems(): print k, v"
     ],
     "language": "python",
     "metadata": {},
     "outputs": [
      {
       "output_type": "stream",
       "stream": "stdout",
       "text": [
        "stanford cal \n",
        "**********\n",
        "meh wow \n",
        "**********\n",
        "stanford meh\n",
        "cal wow\n"
       ]
      }
     ],
     "prompt_number": 6
    },
    {
     "cell_type": "code",
     "collapsed": false,
     "input": [
      "from collections import OrderedDict"
     ],
     "language": "python",
     "metadata": {},
     "outputs": [],
     "prompt_number": 7
    },
    {
     "cell_type": "code",
     "collapsed": false,
     "input": [
      "c = OrderedDict()"
     ],
     "language": "python",
     "metadata": {},
     "outputs": [],
     "prompt_number": 8
    },
    {
     "cell_type": "code",
     "collapsed": false,
     "input": [
      "type(c)"
     ],
     "language": "python",
     "metadata": {},
     "outputs": [
      {
       "output_type": "pyout",
       "prompt_number": 9,
       "text": [
        "collections.OrderedDict"
       ]
      }
     ],
     "prompt_number": 9
    },
    {
     "cell_type": "code",
     "collapsed": false,
     "input": [
      "c.update({\"best schools\": \"cal\"})\n",
      "c.update({\"worst schools\": \"you know\"})\n",
      "d = OrderedDict({\"worst schools\": \"you know\"})\n",
      "d.update({\"best schools\": \"cal\"})"
     ],
     "language": "python",
     "metadata": {},
     "outputs": [],
     "prompt_number": 10
    },
    {
     "cell_type": "code",
     "collapsed": false,
     "input": [
      "c == d"
     ],
     "language": "python",
     "metadata": {},
     "outputs": [
      {
       "output_type": "pyout",
       "prompt_number": 11,
       "text": [
        "False"
       ]
      }
     ],
     "prompt_number": 11
    },
    {
     "cell_type": "code",
     "collapsed": false,
     "input": [
      "print c\n",
      "print d"
     ],
     "language": "python",
     "metadata": {},
     "outputs": [
      {
       "output_type": "stream",
       "stream": "stdout",
       "text": [
        "OrderedDict([('best schools', 'cal'), ('worst schools', 'you know')])\n",
        "OrderedDict([('worst schools', 'you know'), ('best schools', 'cal')])\n"
       ]
      }
     ],
     "prompt_number": 12
    },
    {
     "cell_type": "code",
     "collapsed": false,
     "input": [
      "c.popitem()"
     ],
     "language": "python",
     "metadata": {},
     "outputs": [
      {
       "output_type": "pyout",
       "prompt_number": 13,
       "text": [
        "('worst schools', 'you know')"
       ]
      }
     ],
     "prompt_number": 13
    },
    {
     "cell_type": "code",
     "collapsed": false,
     "input": [
      "d.popitem()"
     ],
     "language": "python",
     "metadata": {},
     "outputs": [
      {
       "output_type": "pyout",
       "prompt_number": 14,
       "text": [
        "('best schools', 'cal')"
       ]
      }
     ],
     "prompt_number": 14
    },
    {
     "cell_type": "code",
     "collapsed": false,
     "input": [
      "print \"c=\", c\n",
      "print \"d=\", d"
     ],
     "language": "python",
     "metadata": {},
     "outputs": [
      {
       "output_type": "stream",
       "stream": "stdout",
       "text": [
        "c= OrderedDict([('best schools', 'cal')])\n",
        "d= OrderedDict([('worst schools', 'you know')])\n"
       ]
      }
     ],
     "prompt_number": 15
    },
    {
     "cell_type": "markdown",
     "metadata": {},
     "source": [
      "`OrderedDict` has all the same methods as `dict` types but includes the `.popitem()` method (which sort of like doing a `.pop()` on a list without any arguements."
     ]
    },
    {
     "cell_type": "code",
     "collapsed": false,
     "input": [
      "d = OrderedDict()\n",
      "d.update({\"best schools\": \"cal\", \"worst schools\": \"you know\"})\n",
      "e = OrderedDict({\"worst schools\": \"you know\",\"best schools\": \"cal\"})"
     ],
     "language": "python",
     "metadata": {},
     "outputs": [],
     "prompt_number": 16
    },
    {
     "cell_type": "code",
     "collapsed": false,
     "input": [
      "d == e"
     ],
     "language": "python",
     "metadata": {},
     "outputs": [
      {
       "output_type": "pyout",
       "prompt_number": 17,
       "text": [
        "True"
       ]
      }
     ],
     "prompt_number": 17
    },
    {
     "cell_type": "markdown",
     "metadata": {},
     "source": [
      "\"The `OrderedDict` constructor and `update()` method both accept keyword arguments, but their order is lost because Python\u2019s function call semantics pass-in keyword arguments using a regular unordered dictionary.\"\n",
      "\n",
      "http://docs.python.org/library/collections.html#collections.Counter"
     ]
    },
    {
     "cell_type": "code",
     "collapsed": false,
     "input": [
      "# other ways to update OrderedDict\n",
      "d.update(cal=\"I mean wow\", stanford=\"what's French for 'meh'?\")\n",
      "d.update([(\"Famous Isaacs\",[\"Shivvers\",\"Hurricane\"])])\n",
      "print d"
     ],
     "language": "python",
     "metadata": {},
     "outputs": [
      {
       "output_type": "stream",
       "stream": "stdout",
       "text": [
        "OrderedDict([('best schools', 'cal'), ('worst schools', 'you know'), ('stanford', \"what's French for 'meh'?\"), ('cal', 'I mean wow'), ('Famous Isaacs', ['Shivvers', 'Hurricane'])])\n"
       ]
      }
     ],
     "prompt_number": 18
    },
    {
     "cell_type": "code",
     "collapsed": false,
     "input": [
      "## unlike with a dict, the ordering of each pair in the\n",
      "## iteration is gauranteed across platforms. Hurray!\n",
      "for k,v in d.iteritems():\n",
      "    print k, \"=\", v"
     ],
     "language": "python",
     "metadata": {},
     "outputs": [
      {
       "output_type": "stream",
       "stream": "stdout",
       "text": [
        "best schools = cal\n",
        "worst schools = you know\n",
        "stanford = what's French for 'meh'?\n",
        "cal = I mean wow\n",
        "Famous Isaacs = ['Shivvers', 'Hurricane']\n"
       ]
      }
     ],
     "prompt_number": 19
    },
    {
     "cell_type": "markdown",
     "metadata": {},
     "source": [
      "## Iterables ##"
     ]
    },
    {
     "cell_type": "code",
     "collapsed": false,
     "input": [
      "a = [\"dog\",\"cat\",\"cheezeberger\"]"
     ],
     "language": "python",
     "metadata": {},
     "outputs": [],
     "prompt_number": 27
    },
    {
     "cell_type": "code",
     "collapsed": false,
     "input": [
      "# this is what is actually getting call by the for call\n",
      "# for x in a: ...\n",
      "b = iter(a)"
     ],
     "language": "python",
     "metadata": {},
     "outputs": [],
     "prompt_number": 28
    },
    {
     "cell_type": "code",
     "collapsed": false,
     "input": [
      "b"
     ],
     "language": "python",
     "metadata": {},
     "outputs": [
      {
       "output_type": "pyout",
       "prompt_number": 29,
       "text": [
        "<listiterator at 0x1082e8e90>"
       ]
      }
     ],
     "prompt_number": 29
    },
    {
     "cell_type": "code",
     "collapsed": false,
     "input": [
      "b.next()"
     ],
     "language": "python",
     "metadata": {},
     "outputs": [
      {
       "output_type": "pyout",
       "prompt_number": 30,
       "text": [
        "'dog'"
       ]
      }
     ],
     "prompt_number": 30
    },
    {
     "cell_type": "code",
     "collapsed": false,
     "input": [
      "b.next()"
     ],
     "language": "python",
     "metadata": {},
     "outputs": [
      {
       "output_type": "pyout",
       "prompt_number": 31,
       "text": [
        "'cat'"
       ]
      }
     ],
     "prompt_number": 31
    },
    {
     "cell_type": "code",
     "collapsed": false,
     "input": [
      "b.next()"
     ],
     "language": "python",
     "metadata": {},
     "outputs": [
      {
       "output_type": "pyout",
       "prompt_number": 32,
       "text": [
        "'cheezeberger'"
       ]
      }
     ],
     "prompt_number": 32
    },
    {
     "cell_type": "code",
     "collapsed": false,
     "input": [
      "b.next()"
     ],
     "language": "python",
     "metadata": {},
     "outputs": [
      {
       "ename": "StopIteration",
       "evalue": "",
       "output_type": "pyerr",
       "traceback": [
        "\u001b[0;31m---------------------------------------------------------------------------\u001b[0m\n\u001b[0;31mStopIteration\u001b[0m                             Traceback (most recent call last)",
        "\u001b[0;32m<ipython-input-33-573a563d926b>\u001b[0m in \u001b[0;36m<module>\u001b[0;34m()\u001b[0m\n\u001b[0;32m----> 1\u001b[0;31m \u001b[0mb\u001b[0m\u001b[0;34m.\u001b[0m\u001b[0mnext\u001b[0m\u001b[0;34m(\u001b[0m\u001b[0;34m)\u001b[0m\u001b[0;34m\u001b[0m\u001b[0m\n\u001b[0m",
        "\u001b[0;31mStopIteration\u001b[0m: "
       ]
      }
     ],
     "prompt_number": 33
    },
    {
     "cell_type": "markdown",
     "metadata": {},
     "source": [
      "## Itertools ##"
     ]
    },
    {
     "cell_type": "code",
     "collapsed": false,
     "input": [
      "import itertools"
     ],
     "language": "python",
     "metadata": {},
     "outputs": [],
     "prompt_number": 34
    },
    {
     "cell_type": "code",
     "collapsed": false,
     "input": [
      "## chain many iterables together\n",
      "a = itertools.chain((x**2 for x in xrange(3)), (x**3 for x in xrange(3)))"
     ],
     "language": "python",
     "metadata": {},
     "outputs": [],
     "prompt_number": 35
    },
    {
     "cell_type": "code",
     "collapsed": false,
     "input": [
      "for x in a: \n",
      "    print x,"
     ],
     "language": "python",
     "metadata": {},
     "outputs": [
      {
       "output_type": "stream",
       "stream": "stdout",
       "text": [
        "0 1 4 0 1 8\n"
       ]
      }
     ],
     "prompt_number": 36
    },
    {
     "cell_type": "code",
     "collapsed": false,
     "input": [
      "print a\n",
      "print hasattr(a,\"next\")\n",
      "print hasattr(a,\"__iter__\")"
     ],
     "language": "python",
     "metadata": {},
     "outputs": [
      {
       "output_type": "stream",
       "stream": "stdout",
       "text": [
        "<itertools.chain object at 0x1082dda10>\n",
        "True\n",
        "True\n"
       ]
      }
     ],
     "prompt_number": 37
    },
    {
     "cell_type": "code",
     "collapsed": false,
     "input": [
      "for x in itertools.combinations([\"dog\",\"cat\",\"cheezberger\"], 2): print x, "
     ],
     "language": "python",
     "metadata": {},
     "outputs": [
      {
       "output_type": "stream",
       "stream": "stdout",
       "text": [
        "('dog', 'cat') ('dog', 'cheezberger') ('cat', 'cheezberger')\n"
       ]
      }
     ],
     "prompt_number": 38
    },
    {
     "cell_type": "code",
     "collapsed": false,
     "input": [
      "for x in itertools.permutations([\"dog\",\"cat\",\"cheezberger\"]): print x, "
     ],
     "language": "python",
     "metadata": {},
     "outputs": [
      {
       "output_type": "stream",
       "stream": "stdout",
       "text": [
        "('dog', 'cat', 'cheezberger') ('dog', 'cheezberger', 'cat') ('cat', 'dog', 'cheezberger') ('cat', 'cheezberger', 'dog') ('cheezberger', 'dog', 'cat') ('cheezberger', 'cat', 'dog')\n"
       ]
      }
     ],
     "prompt_number": 39
    },
    {
     "cell_type": "markdown",
     "metadata": {},
     "source": [
      "## Decorators ##\n",
      "\n",
      "see http://stackoverflow.com/questions/739654/understanding-python-decorators"
     ]
    },
    {
     "cell_type": "code",
     "collapsed": false,
     "input": [
      "def bread(func):\n",
      "    def wrapper(*args):\n",
      "        print \"</''''''\\>\"\n",
      "        func(*args)\n",
      "        print \"<\\______/>\"\n",
      "    return wrapper\n",
      "\n",
      "def ingredients(func):\n",
      "    def wrapper(*args):\n",
      "        print \"#tomatoes#\"\n",
      "        func(*args)\n",
      "        print \"~salad~\"\n",
      "    return wrapper\n",
      "\n",
      "@bread\n",
      "@ingredients\n",
      "def sandwich(food=\"--ham--\"):\n",
      "    print food"
     ],
     "language": "python",
     "metadata": {},
     "outputs": [],
     "prompt_number": 40
    },
    {
     "cell_type": "code",
     "collapsed": false,
     "input": [
      "sandwich()"
     ],
     "language": "python",
     "metadata": {},
     "outputs": [
      {
       "output_type": "stream",
       "stream": "stdout",
       "text": [
        "</''''''\\>\n",
        "#tomatoes#\n",
        "--ham--\n",
        "~salad~\n",
        "<\\______/>\n"
       ]
      }
     ],
     "prompt_number": 41
    },
    {
     "cell_type": "code",
     "collapsed": false,
     "input": [
      "sandwich(\"--antelope--\")"
     ],
     "language": "python",
     "metadata": {},
     "outputs": [
      {
       "output_type": "stream",
       "stream": "stdout",
       "text": [
        "</''''''\\>\n",
        "#tomatoes#\n",
        "--antelope--\n",
        "~salad~\n",
        "<\\______/>\n"
       ]
      }
     ],
     "prompt_number": 42
    },
    {
     "cell_type": "code",
     "collapsed": false,
     "input": [],
     "language": "python",
     "metadata": {},
     "outputs": []
    }
   ],
   "metadata": {}
  }
 ]
}